{
 "cells": [
  {
   "cell_type": "code",
   "execution_count": 1,
   "id": "0b6e3e26",
   "metadata": {
    "execution": {
     "iopub.execute_input": "2022-01-19T12:17:41.486355Z",
     "iopub.status.busy": "2022-01-19T12:17:41.485269Z",
     "iopub.status.idle": "2022-01-19T12:17:42.564765Z",
     "shell.execute_reply": "2022-01-19T12:17:42.564041Z",
     "shell.execute_reply.started": "2022-01-19T12:14:20.511209Z"
    },
    "id": "qYJy-16YPn7-",
    "papermill": {
     "duration": 1.104795,
     "end_time": "2022-01-19T12:17:42.564937",
     "exception": false,
     "start_time": "2022-01-19T12:17:41.460142",
     "status": "completed"
    },
    "tags": []
   },
   "outputs": [],
   "source": [
    "import pandas as pd\n",
    "import numpy as np\n",
    "from sklearn.preprocessing import LabelEncoder\n",
    "from sklearn.preprocessing import MinMaxScaler\n",
    "import seaborn as sns\n",
    "import matplotlib.pyplot as plta\n",
    "from sklearn.model_selection import train_test_split"
   ]
  },
  {
   "cell_type": "code",
   "execution_count": 2,
   "id": "253fc488",
   "metadata": {
    "execution": {
     "iopub.execute_input": "2022-01-19T12:17:42.611941Z",
     "iopub.status.busy": "2022-01-19T12:17:42.611331Z",
     "iopub.status.idle": "2022-01-19T12:17:42.693859Z",
     "shell.execute_reply": "2022-01-19T12:17:42.694429Z",
     "shell.execute_reply.started": "2022-01-19T12:14:24.856394Z"
    },
    "id": "ug3zWqvPtrEb",
    "papermill": {
     "duration": 0.107362,
     "end_time": "2022-01-19T12:17:42.694613",
     "exception": false,
     "start_time": "2022-01-19T12:17:42.587251",
     "status": "completed"
    },
    "tags": []
   },
   "outputs": [],
   "source": [
    "data1=pd.read_csv(\"../input/imdb-movie/movie_metadata.csv\")"
   ]
  },
  {
   "cell_type": "code",
   "execution_count": 3,
   "id": "92d4e2ee",
   "metadata": {
    "execution": {
     "iopub.execute_input": "2022-01-19T12:17:42.753494Z",
     "iopub.status.busy": "2022-01-19T12:17:42.752815Z",
     "iopub.status.idle": "2022-01-19T12:17:42.782701Z",
     "shell.execute_reply": "2022-01-19T12:17:42.783127Z",
     "shell.execute_reply.started": "2022-01-19T12:14:27.602042Z"
    },
    "id": "Ot2T8M2Mt4Ag",
    "outputId": "c786ea00-8cc2-4d0f-8878-40eed7b43c70",
    "papermill": {
     "duration": 0.067505,
     "end_time": "2022-01-19T12:17:42.783316",
     "exception": false,
     "start_time": "2022-01-19T12:17:42.715811",
     "status": "completed"
    },
    "tags": []
   },
   "outputs": [
    {
     "data": {
      "text/html": [
       "<div>\n",
       "<style scoped>\n",
       "    .dataframe tbody tr th:only-of-type {\n",
       "        vertical-align: middle;\n",
       "    }\n",
       "\n",
       "    .dataframe tbody tr th {\n",
       "        vertical-align: top;\n",
       "    }\n",
       "\n",
       "    .dataframe thead th {\n",
       "        text-align: right;\n",
       "    }\n",
       "</style>\n",
       "<table border=\"1\" class=\"dataframe\">\n",
       "  <thead>\n",
       "    <tr style=\"text-align: right;\">\n",
       "      <th></th>\n",
       "      <th>color</th>\n",
       "      <th>director_name</th>\n",
       "      <th>num_critic_for_reviews</th>\n",
       "      <th>duration</th>\n",
       "      <th>director_facebook_likes</th>\n",
       "      <th>actor_3_facebook_likes</th>\n",
       "      <th>actor_2_name</th>\n",
       "      <th>actor_1_facebook_likes</th>\n",
       "      <th>gross</th>\n",
       "      <th>genres</th>\n",
       "      <th>...</th>\n",
       "      <th>num_user_for_reviews</th>\n",
       "      <th>language</th>\n",
       "      <th>country</th>\n",
       "      <th>content_rating</th>\n",
       "      <th>budget</th>\n",
       "      <th>title_year</th>\n",
       "      <th>actor_2_facebook_likes</th>\n",
       "      <th>imdb_score</th>\n",
       "      <th>aspect_ratio</th>\n",
       "      <th>movie_facebook_likes</th>\n",
       "    </tr>\n",
       "  </thead>\n",
       "  <tbody>\n",
       "    <tr>\n",
       "      <th>0</th>\n",
       "      <td>Color</td>\n",
       "      <td>James Cameron</td>\n",
       "      <td>723.0</td>\n",
       "      <td>178.0</td>\n",
       "      <td>0.0</td>\n",
       "      <td>855.0</td>\n",
       "      <td>Joel David Moore</td>\n",
       "      <td>1000.0</td>\n",
       "      <td>760505847.0</td>\n",
       "      <td>Action|Adventure|Fantasy|Sci-Fi</td>\n",
       "      <td>...</td>\n",
       "      <td>3054.0</td>\n",
       "      <td>English</td>\n",
       "      <td>USA</td>\n",
       "      <td>PG-13</td>\n",
       "      <td>237000000.0</td>\n",
       "      <td>2009.0</td>\n",
       "      <td>936.0</td>\n",
       "      <td>7.9</td>\n",
       "      <td>1.78</td>\n",
       "      <td>33000</td>\n",
       "    </tr>\n",
       "    <tr>\n",
       "      <th>1</th>\n",
       "      <td>Color</td>\n",
       "      <td>Gore Verbinski</td>\n",
       "      <td>302.0</td>\n",
       "      <td>169.0</td>\n",
       "      <td>563.0</td>\n",
       "      <td>1000.0</td>\n",
       "      <td>Orlando Bloom</td>\n",
       "      <td>40000.0</td>\n",
       "      <td>309404152.0</td>\n",
       "      <td>Action|Adventure|Fantasy</td>\n",
       "      <td>...</td>\n",
       "      <td>1238.0</td>\n",
       "      <td>English</td>\n",
       "      <td>USA</td>\n",
       "      <td>PG-13</td>\n",
       "      <td>300000000.0</td>\n",
       "      <td>2007.0</td>\n",
       "      <td>5000.0</td>\n",
       "      <td>7.1</td>\n",
       "      <td>2.35</td>\n",
       "      <td>0</td>\n",
       "    </tr>\n",
       "    <tr>\n",
       "      <th>2</th>\n",
       "      <td>Color</td>\n",
       "      <td>Sam Mendes</td>\n",
       "      <td>602.0</td>\n",
       "      <td>148.0</td>\n",
       "      <td>0.0</td>\n",
       "      <td>161.0</td>\n",
       "      <td>Rory Kinnear</td>\n",
       "      <td>11000.0</td>\n",
       "      <td>200074175.0</td>\n",
       "      <td>Action|Adventure|Thriller</td>\n",
       "      <td>...</td>\n",
       "      <td>994.0</td>\n",
       "      <td>English</td>\n",
       "      <td>UK</td>\n",
       "      <td>PG-13</td>\n",
       "      <td>245000000.0</td>\n",
       "      <td>2015.0</td>\n",
       "      <td>393.0</td>\n",
       "      <td>6.8</td>\n",
       "      <td>2.35</td>\n",
       "      <td>85000</td>\n",
       "    </tr>\n",
       "    <tr>\n",
       "      <th>3</th>\n",
       "      <td>Color</td>\n",
       "      <td>Christopher Nolan</td>\n",
       "      <td>813.0</td>\n",
       "      <td>164.0</td>\n",
       "      <td>22000.0</td>\n",
       "      <td>23000.0</td>\n",
       "      <td>Christian Bale</td>\n",
       "      <td>27000.0</td>\n",
       "      <td>448130642.0</td>\n",
       "      <td>Action|Thriller</td>\n",
       "      <td>...</td>\n",
       "      <td>2701.0</td>\n",
       "      <td>English</td>\n",
       "      <td>USA</td>\n",
       "      <td>PG-13</td>\n",
       "      <td>250000000.0</td>\n",
       "      <td>2012.0</td>\n",
       "      <td>23000.0</td>\n",
       "      <td>8.5</td>\n",
       "      <td>2.35</td>\n",
       "      <td>164000</td>\n",
       "    </tr>\n",
       "    <tr>\n",
       "      <th>4</th>\n",
       "      <td>NaN</td>\n",
       "      <td>Doug Walker</td>\n",
       "      <td>NaN</td>\n",
       "      <td>NaN</td>\n",
       "      <td>131.0</td>\n",
       "      <td>NaN</td>\n",
       "      <td>Rob Walker</td>\n",
       "      <td>131.0</td>\n",
       "      <td>NaN</td>\n",
       "      <td>Documentary</td>\n",
       "      <td>...</td>\n",
       "      <td>NaN</td>\n",
       "      <td>NaN</td>\n",
       "      <td>NaN</td>\n",
       "      <td>NaN</td>\n",
       "      <td>NaN</td>\n",
       "      <td>NaN</td>\n",
       "      <td>12.0</td>\n",
       "      <td>7.1</td>\n",
       "      <td>NaN</td>\n",
       "      <td>0</td>\n",
       "    </tr>\n",
       "  </tbody>\n",
       "</table>\n",
       "<p>5 rows × 28 columns</p>\n",
       "</div>"
      ],
      "text/plain": [
       "   color      director_name  num_critic_for_reviews  duration  \\\n",
       "0  Color      James Cameron                   723.0     178.0   \n",
       "1  Color     Gore Verbinski                   302.0     169.0   \n",
       "2  Color         Sam Mendes                   602.0     148.0   \n",
       "3  Color  Christopher Nolan                   813.0     164.0   \n",
       "4    NaN        Doug Walker                     NaN       NaN   \n",
       "\n",
       "   director_facebook_likes  actor_3_facebook_likes      actor_2_name  \\\n",
       "0                      0.0                   855.0  Joel David Moore   \n",
       "1                    563.0                  1000.0     Orlando Bloom   \n",
       "2                      0.0                   161.0      Rory Kinnear   \n",
       "3                  22000.0                 23000.0    Christian Bale   \n",
       "4                    131.0                     NaN        Rob Walker   \n",
       "\n",
       "   actor_1_facebook_likes        gross                           genres  ...  \\\n",
       "0                  1000.0  760505847.0  Action|Adventure|Fantasy|Sci-Fi  ...   \n",
       "1                 40000.0  309404152.0         Action|Adventure|Fantasy  ...   \n",
       "2                 11000.0  200074175.0        Action|Adventure|Thriller  ...   \n",
       "3                 27000.0  448130642.0                  Action|Thriller  ...   \n",
       "4                   131.0          NaN                      Documentary  ...   \n",
       "\n",
       "  num_user_for_reviews language  country  content_rating       budget  \\\n",
       "0               3054.0  English      USA           PG-13  237000000.0   \n",
       "1               1238.0  English      USA           PG-13  300000000.0   \n",
       "2                994.0  English       UK           PG-13  245000000.0   \n",
       "3               2701.0  English      USA           PG-13  250000000.0   \n",
       "4                  NaN      NaN      NaN             NaN          NaN   \n",
       "\n",
       "   title_year actor_2_facebook_likes imdb_score  aspect_ratio  \\\n",
       "0      2009.0                  936.0        7.9          1.78   \n",
       "1      2007.0                 5000.0        7.1          2.35   \n",
       "2      2015.0                  393.0        6.8          2.35   \n",
       "3      2012.0                23000.0        8.5          2.35   \n",
       "4         NaN                   12.0        7.1           NaN   \n",
       "\n",
       "  movie_facebook_likes  \n",
       "0                33000  \n",
       "1                    0  \n",
       "2                85000  \n",
       "3               164000  \n",
       "4                    0  \n",
       "\n",
       "[5 rows x 28 columns]"
      ]
     },
     "execution_count": 3,
     "metadata": {},
     "output_type": "execute_result"
    }
   ],
   "source": [
    "data1.head()"
   ]
  },
  {
   "cell_type": "code",
   "execution_count": 4,
   "id": "070a37cb",
   "metadata": {
    "execution": {
     "iopub.execute_input": "2022-01-19T12:17:42.838251Z",
     "iopub.status.busy": "2022-01-19T12:17:42.830736Z",
     "iopub.status.idle": "2022-01-19T12:17:42.844887Z",
     "shell.execute_reply": "2022-01-19T12:17:42.845283Z"
    },
    "id": "Iwq29nO0unD5",
    "papermill": {
     "duration": 0.040176,
     "end_time": "2022-01-19T12:17:42.845433",
     "exception": false,
     "start_time": "2022-01-19T12:17:42.805257",
     "status": "completed"
    },
    "tags": []
   },
   "outputs": [
    {
     "data": {
      "text/plain": [
       "color                         19\n",
       "director_name                104\n",
       "num_critic_for_reviews        50\n",
       "duration                      15\n",
       "director_facebook_likes      104\n",
       "actor_3_facebook_likes        23\n",
       "actor_2_name                  13\n",
       "actor_1_facebook_likes         7\n",
       "gross                        884\n",
       "genres                         0\n",
       "actor_1_name                   7\n",
       "movie_title                    0\n",
       "num_voted_users                0\n",
       "cast_total_facebook_likes      0\n",
       "actor_3_name                  23\n",
       "facenumber_in_poster          13\n",
       "plot_keywords                153\n",
       "movie_imdb_link                0\n",
       "num_user_for_reviews          21\n",
       "language                      12\n",
       "country                        5\n",
       "content_rating               303\n",
       "budget                       492\n",
       "title_year                   108\n",
       "actor_2_facebook_likes        13\n",
       "imdb_score                     0\n",
       "aspect_ratio                 329\n",
       "movie_facebook_likes           0\n",
       "dtype: int64"
      ]
     },
     "execution_count": 4,
     "metadata": {},
     "output_type": "execute_result"
    }
   ],
   "source": [
    "data1.isnull().sum()"
   ]
  },
  {
   "cell_type": "code",
   "execution_count": 5,
   "id": "7d75ed0c",
   "metadata": {
    "execution": {
     "iopub.execute_input": "2022-01-19T12:17:42.901822Z",
     "iopub.status.busy": "2022-01-19T12:17:42.901242Z",
     "iopub.status.idle": "2022-01-19T12:17:42.933077Z",
     "shell.execute_reply": "2022-01-19T12:17:42.933616Z"
    },
    "id": "w7-UALB99pAH",
    "papermill": {
     "duration": 0.067079,
     "end_time": "2022-01-19T12:17:42.933805",
     "exception": false,
     "start_time": "2022-01-19T12:17:42.866726",
     "status": "completed"
    },
    "tags": []
   },
   "outputs": [
    {
     "data": {
      "text/html": [
       "<div>\n",
       "<style scoped>\n",
       "    .dataframe tbody tr th:only-of-type {\n",
       "        vertical-align: middle;\n",
       "    }\n",
       "\n",
       "    .dataframe tbody tr th {\n",
       "        vertical-align: top;\n",
       "    }\n",
       "\n",
       "    .dataframe thead th {\n",
       "        text-align: right;\n",
       "    }\n",
       "</style>\n",
       "<table border=\"1\" class=\"dataframe\">\n",
       "  <thead>\n",
       "    <tr style=\"text-align: right;\">\n",
       "      <th></th>\n",
       "      <th>Total</th>\n",
       "      <th>%</th>\n",
       "    </tr>\n",
       "  </thead>\n",
       "  <tbody>\n",
       "    <tr>\n",
       "      <th>gross</th>\n",
       "      <td>884</td>\n",
       "      <td>17.5</td>\n",
       "    </tr>\n",
       "    <tr>\n",
       "      <th>budget</th>\n",
       "      <td>492</td>\n",
       "      <td>9.8</td>\n",
       "    </tr>\n",
       "    <tr>\n",
       "      <th>aspect_ratio</th>\n",
       "      <td>329</td>\n",
       "      <td>6.5</td>\n",
       "    </tr>\n",
       "    <tr>\n",
       "      <th>content_rating</th>\n",
       "      <td>303</td>\n",
       "      <td>6.0</td>\n",
       "    </tr>\n",
       "    <tr>\n",
       "      <th>plot_keywords</th>\n",
       "      <td>153</td>\n",
       "      <td>3.0</td>\n",
       "    </tr>\n",
       "  </tbody>\n",
       "</table>\n",
       "</div>"
      ],
      "text/plain": [
       "                Total     %\n",
       "gross             884  17.5\n",
       "budget            492   9.8\n",
       "aspect_ratio      329   6.5\n",
       "content_rating    303   6.0\n",
       "plot_keywords     153   3.0"
      ]
     },
     "execution_count": 5,
     "metadata": {},
     "output_type": "execute_result"
    }
   ],
   "source": [
    "total = data1.isnull().sum().sort_values(ascending=False)\n",
    "percent_1 = (data1.isnull().sum()/data1.isnull().count())*100\n",
    "percent_2 = (round(percent_1, 1)).sort_values(ascending=False)\n",
    "missing_data1 = pd.concat([total, percent_2], axis=1, keys=['Total', '%'])\n",
    "missing_data1.head(5)\n"
   ]
  },
  {
   "cell_type": "code",
   "execution_count": null,
   "id": "3ee3a7e0",
   "metadata": {
    "id": "rE57lGWrmliJ",
    "papermill": {
     "duration": 0.022085,
     "end_time": "2022-01-19T12:17:42.979111",
     "exception": false,
     "start_time": "2022-01-19T12:17:42.957026",
     "status": "completed"
    },
    "tags": []
   },
   "outputs": [],
   "source": []
  },
  {
   "cell_type": "markdown",
   "id": "1c1636c0",
   "metadata": {
    "id": "NVEh5cXBmCUh",
    "papermill": {
     "duration": 0.022998,
     "end_time": "2022-01-19T12:17:43.024862",
     "exception": false,
     "start_time": "2022-01-19T12:17:43.001864",
     "status": "completed"
    },
    "tags": []
   },
   "source": [
    "counting null percentage"
   ]
  },
  {
   "cell_type": "code",
   "execution_count": 6,
   "id": "cac3f5de",
   "metadata": {
    "execution": {
     "iopub.execute_input": "2022-01-19T12:17:43.075401Z",
     "iopub.status.busy": "2022-01-19T12:17:43.074758Z",
     "iopub.status.idle": "2022-01-19T12:17:43.076923Z",
     "shell.execute_reply": "2022-01-19T12:17:43.077355Z"
    },
    "id": "XxOS3QdwDvyj",
    "papermill": {
     "duration": 0.030335,
     "end_time": "2022-01-19T12:17:43.077504",
     "exception": false,
     "start_time": "2022-01-19T12:17:43.047169",
     "status": "completed"
    },
    "tags": []
   },
   "outputs": [],
   "source": [
    "data1 = data1.drop(['gross'], axis=1)"
   ]
  },
  {
   "cell_type": "markdown",
   "id": "0846d6fe",
   "metadata": {
    "id": "ANvwhUyOmdlh",
    "papermill": {
     "duration": 0.021152,
     "end_time": "2022-01-19T12:17:43.121794",
     "exception": false,
     "start_time": "2022-01-19T12:17:43.100642",
     "status": "completed"
    },
    "tags": []
   },
   "source": [
    "i have to drop gross as its null % is 17.5%"
   ]
  },
  {
   "cell_type": "code",
   "execution_count": 7,
   "id": "e0e868cb",
   "metadata": {
    "execution": {
     "iopub.execute_input": "2022-01-19T12:17:43.172488Z",
     "iopub.status.busy": "2022-01-19T12:17:43.171937Z",
     "iopub.status.idle": "2022-01-19T12:17:43.177329Z",
     "shell.execute_reply": "2022-01-19T12:17:43.177828Z"
    },
    "id": "ezlglb_FD4sz",
    "papermill": {
     "duration": 0.034842,
     "end_time": "2022-01-19T12:17:43.177959",
     "exception": false,
     "start_time": "2022-01-19T12:17:43.143117",
     "status": "completed"
    },
    "tags": []
   },
   "outputs": [],
   "source": [
    "data1['budget']=data1['budget'].fillna(data1['budget'].mean())\n",
    "data1['num_critic_for_reviews']=data1['num_critic_for_reviews'].fillna(data1['num_critic_for_reviews'].mean())\n",
    "data1['aspect_ratio']=data1['aspect_ratio'].fillna(data1['aspect_ratio'].mean())\n",
    "data1['duration']=data1['duration'].fillna(data1['duration'].mean())\n",
    "data1['title_year']=data1['title_year'].fillna(data1['title_year'].mean())\n",
    "data1['director_facebook_likes']=data1['director_facebook_likes'].fillna(data1['director_facebook_likes'].mean())\n"
   ]
  },
  {
   "cell_type": "code",
   "execution_count": 8,
   "id": "9e49c7ff",
   "metadata": {
    "execution": {
     "iopub.execute_input": "2022-01-19T12:17:43.225210Z",
     "iopub.status.busy": "2022-01-19T12:17:43.224665Z",
     "iopub.status.idle": "2022-01-19T12:17:43.238821Z",
     "shell.execute_reply": "2022-01-19T12:17:43.239367Z"
    },
    "id": "w1S0y6VtDvQF",
    "papermill": {
     "duration": 0.039877,
     "end_time": "2022-01-19T12:17:43.239529",
     "exception": false,
     "start_time": "2022-01-19T12:17:43.199652",
     "status": "completed"
    },
    "tags": []
   },
   "outputs": [
    {
     "data": {
      "text/plain": [
       "color                         19\n",
       "director_name                104\n",
       "num_critic_for_reviews         0\n",
       "duration                       0\n",
       "director_facebook_likes        0\n",
       "actor_3_facebook_likes        23\n",
       "actor_2_name                  13\n",
       "actor_1_facebook_likes         7\n",
       "genres                         0\n",
       "actor_1_name                   7\n",
       "movie_title                    0\n",
       "num_voted_users                0\n",
       "cast_total_facebook_likes      0\n",
       "actor_3_name                  23\n",
       "facenumber_in_poster          13\n",
       "plot_keywords                153\n",
       "movie_imdb_link                0\n",
       "num_user_for_reviews          21\n",
       "language                      12\n",
       "country                        5\n",
       "content_rating               303\n",
       "budget                         0\n",
       "title_year                     0\n",
       "actor_2_facebook_likes        13\n",
       "imdb_score                     0\n",
       "aspect_ratio                   0\n",
       "movie_facebook_likes           0\n",
       "dtype: int64"
      ]
     },
     "execution_count": 8,
     "metadata": {},
     "output_type": "execute_result"
    }
   ],
   "source": [
    "data1.isnull().sum()"
   ]
  },
  {
   "cell_type": "markdown",
   "id": "21aaea1a",
   "metadata": {
    "id": "tmqOU2z7muqq",
    "papermill": {
     "duration": 0.021993,
     "end_time": "2022-01-19T12:17:43.283537",
     "exception": false,
     "start_time": "2022-01-19T12:17:43.261544",
     "status": "completed"
    },
    "tags": []
   },
   "source": [
    "treating null values with mean"
   ]
  },
  {
   "cell_type": "code",
   "execution_count": null,
   "id": "08cf49c4",
   "metadata": {
    "id": "LgUZs5vlm8Iv",
    "papermill": {
     "duration": 0.023193,
     "end_time": "2022-01-19T12:17:43.330587",
     "exception": false,
     "start_time": "2022-01-19T12:17:43.307394",
     "status": "completed"
    },
    "tags": []
   },
   "outputs": [],
   "source": []
  },
  {
   "cell_type": "code",
   "execution_count": 9,
   "id": "a1d858dc",
   "metadata": {
    "execution": {
     "iopub.execute_input": "2022-01-19T12:17:43.383617Z",
     "iopub.status.busy": "2022-01-19T12:17:43.382820Z",
     "iopub.status.idle": "2022-01-19T12:17:43.791252Z",
     "shell.execute_reply": "2022-01-19T12:17:43.790756Z"
    },
    "id": "iBEpwWUdK8Pl",
    "papermill": {
     "duration": 0.436601,
     "end_time": "2022-01-19T12:17:43.791375",
     "exception": false,
     "start_time": "2022-01-19T12:17:43.354774",
     "status": "completed"
    },
    "tags": []
   },
   "outputs": [
    {
     "data": {
      "text/plain": [
       "array([['Color', 'James Cameron', 723.0, ..., 7.9, 1.78, 33000],\n",
       "       ['Color', 'Gore Verbinski', 302.0, ..., 7.1, 2.35, 0],\n",
       "       ['Color', 'Sam Mendes', 602.0, ..., 6.8, 2.35, 85000],\n",
       "       ...,\n",
       "       ['Color', 'Benjamin Roberds', 13.0, ..., 6.3, 2.2204030547307805,\n",
       "        16],\n",
       "       ['Color', 'Daniel Hsia', 14.0, ..., 6.3, 2.35, 660],\n",
       "       ['Color', 'Jon Gunn', 43.0, ..., 6.6, 1.85, 456]], dtype=object)"
      ]
     },
     "execution_count": 9,
     "metadata": {},
     "output_type": "execute_result"
    }
   ],
   "source": [
    "from sklearn.impute import SimpleImputer\n",
    "se=SimpleImputer(strategy='most_frequent')\n",
    "data1=se.fit_transform(data1)\n",
    "data1"
   ]
  },
  {
   "cell_type": "markdown",
   "id": "005c781b",
   "metadata": {
    "id": "p-JETvBzm164",
    "papermill": {
     "duration": 0.022081,
     "end_time": "2022-01-19T12:17:43.835395",
     "exception": false,
     "start_time": "2022-01-19T12:17:43.813314",
     "status": "completed"
    },
    "tags": []
   },
   "source": [
    "categirial data nan replace with max frequency"
   ]
  },
  {
   "cell_type": "code",
   "execution_count": 10,
   "id": "0a5ac939",
   "metadata": {
    "execution": {
     "iopub.execute_input": "2022-01-19T12:17:43.885811Z",
     "iopub.status.busy": "2022-01-19T12:17:43.885233Z",
     "iopub.status.idle": "2022-01-19T12:17:43.889884Z",
     "shell.execute_reply": "2022-01-19T12:17:43.890399Z"
    },
    "id": "Svh41KVxOAzD",
    "papermill": {
     "duration": 0.033282,
     "end_time": "2022-01-19T12:17:43.890569",
     "exception": false,
     "start_time": "2022-01-19T12:17:43.857287",
     "status": "completed"
    },
    "tags": []
   },
   "outputs": [],
   "source": [
    "data1=pd.DataFrame(data1)"
   ]
  },
  {
   "cell_type": "markdown",
   "id": "710cfd36",
   "metadata": {
    "id": "R5HyjuJhnn8N",
    "papermill": {
     "duration": 0.023365,
     "end_time": "2022-01-19T12:17:43.937907",
     "exception": false,
     "start_time": "2022-01-19T12:17:43.914542",
     "status": "completed"
    },
    "tags": []
   },
   "source": [
    "converting numpy to data frame as it convert it to numpy when max freq replacement is done"
   ]
  },
  {
   "cell_type": "code",
   "execution_count": 11,
   "id": "61229999",
   "metadata": {
    "execution": {
     "iopub.execute_input": "2022-01-19T12:17:44.004908Z",
     "iopub.status.busy": "2022-01-19T12:17:44.001734Z",
     "iopub.status.idle": "2022-01-19T12:17:44.007526Z",
     "shell.execute_reply": "2022-01-19T12:17:44.008062Z"
    },
    "id": "UvnQiLDfOHdE",
    "papermill": {
     "duration": 0.045567,
     "end_time": "2022-01-19T12:17:44.008217",
     "exception": false,
     "start_time": "2022-01-19T12:17:43.962650",
     "status": "completed"
    },
    "tags": []
   },
   "outputs": [
    {
     "data": {
      "text/plain": [
       "0     0\n",
       "1     0\n",
       "2     0\n",
       "3     0\n",
       "4     0\n",
       "5     0\n",
       "6     0\n",
       "7     0\n",
       "8     0\n",
       "9     0\n",
       "10    0\n",
       "11    0\n",
       "12    0\n",
       "13    0\n",
       "14    0\n",
       "15    0\n",
       "16    0\n",
       "17    0\n",
       "18    0\n",
       "19    0\n",
       "20    0\n",
       "21    0\n",
       "22    0\n",
       "23    0\n",
       "24    0\n",
       "25    0\n",
       "26    0\n",
       "dtype: int64"
      ]
     },
     "execution_count": 11,
     "metadata": {},
     "output_type": "execute_result"
    }
   ],
   "source": [
    "data1.isnull().sum()"
   ]
  },
  {
   "cell_type": "code",
   "execution_count": 12,
   "id": "6a544ee9",
   "metadata": {
    "execution": {
     "iopub.execute_input": "2022-01-19T12:17:44.061328Z",
     "iopub.status.busy": "2022-01-19T12:17:44.060319Z",
     "iopub.status.idle": "2022-01-19T12:17:44.091153Z",
     "shell.execute_reply": "2022-01-19T12:17:44.091654Z"
    },
    "id": "INJcEkIz8uaa",
    "papermill": {
     "duration": 0.0589,
     "end_time": "2022-01-19T12:17:44.091826",
     "exception": false,
     "start_time": "2022-01-19T12:17:44.032926",
     "status": "completed"
    },
    "tags": []
   },
   "outputs": [
    {
     "data": {
      "text/html": [
       "<div>\n",
       "<style scoped>\n",
       "    .dataframe tbody tr th:only-of-type {\n",
       "        vertical-align: middle;\n",
       "    }\n",
       "\n",
       "    .dataframe tbody tr th {\n",
       "        vertical-align: top;\n",
       "    }\n",
       "\n",
       "    .dataframe thead th {\n",
       "        text-align: right;\n",
       "    }\n",
       "</style>\n",
       "<table border=\"1\" class=\"dataframe\">\n",
       "  <thead>\n",
       "    <tr style=\"text-align: right;\">\n",
       "      <th></th>\n",
       "      <th>color</th>\n",
       "      <th>director_name</th>\n",
       "      <th>num_critic_for_reviews</th>\n",
       "      <th>duration</th>\n",
       "      <th>director_facebook_likes</th>\n",
       "      <th>actor_3_facebook_likes</th>\n",
       "      <th>actor_2_name</th>\n",
       "      <th>actor_1_facebook_likes</th>\n",
       "      <th>genres</th>\n",
       "      <th>actor_1_name</th>\n",
       "      <th>...</th>\n",
       "      <th>num_user_for_reviews</th>\n",
       "      <th>language</th>\n",
       "      <th>country</th>\n",
       "      <th>content_rating</th>\n",
       "      <th>budget</th>\n",
       "      <th>title_year</th>\n",
       "      <th>actor_2_facebook_likes</th>\n",
       "      <th>imdb_score</th>\n",
       "      <th>aspect_ratio</th>\n",
       "      <th>movie_facebook_likes</th>\n",
       "    </tr>\n",
       "  </thead>\n",
       "  <tbody>\n",
       "    <tr>\n",
       "      <th>0</th>\n",
       "      <td>Color</td>\n",
       "      <td>James Cameron</td>\n",
       "      <td>723.0</td>\n",
       "      <td>178.0</td>\n",
       "      <td>0.0</td>\n",
       "      <td>855.0</td>\n",
       "      <td>Joel David Moore</td>\n",
       "      <td>1000.0</td>\n",
       "      <td>Action|Adventure|Fantasy|Sci-Fi</td>\n",
       "      <td>CCH Pounder</td>\n",
       "      <td>...</td>\n",
       "      <td>3054.0</td>\n",
       "      <td>English</td>\n",
       "      <td>USA</td>\n",
       "      <td>PG-13</td>\n",
       "      <td>237000000.0</td>\n",
       "      <td>2009.0</td>\n",
       "      <td>936.0</td>\n",
       "      <td>7.9</td>\n",
       "      <td>1.78</td>\n",
       "      <td>33000</td>\n",
       "    </tr>\n",
       "    <tr>\n",
       "      <th>1</th>\n",
       "      <td>Color</td>\n",
       "      <td>Gore Verbinski</td>\n",
       "      <td>302.0</td>\n",
       "      <td>169.0</td>\n",
       "      <td>563.0</td>\n",
       "      <td>1000.0</td>\n",
       "      <td>Orlando Bloom</td>\n",
       "      <td>40000.0</td>\n",
       "      <td>Action|Adventure|Fantasy</td>\n",
       "      <td>Johnny Depp</td>\n",
       "      <td>...</td>\n",
       "      <td>1238.0</td>\n",
       "      <td>English</td>\n",
       "      <td>USA</td>\n",
       "      <td>PG-13</td>\n",
       "      <td>300000000.0</td>\n",
       "      <td>2007.0</td>\n",
       "      <td>5000.0</td>\n",
       "      <td>7.1</td>\n",
       "      <td>2.35</td>\n",
       "      <td>0</td>\n",
       "    </tr>\n",
       "    <tr>\n",
       "      <th>2</th>\n",
       "      <td>Color</td>\n",
       "      <td>Sam Mendes</td>\n",
       "      <td>602.0</td>\n",
       "      <td>148.0</td>\n",
       "      <td>0.0</td>\n",
       "      <td>161.0</td>\n",
       "      <td>Rory Kinnear</td>\n",
       "      <td>11000.0</td>\n",
       "      <td>Action|Adventure|Thriller</td>\n",
       "      <td>Christoph Waltz</td>\n",
       "      <td>...</td>\n",
       "      <td>994.0</td>\n",
       "      <td>English</td>\n",
       "      <td>UK</td>\n",
       "      <td>PG-13</td>\n",
       "      <td>245000000.0</td>\n",
       "      <td>2015.0</td>\n",
       "      <td>393.0</td>\n",
       "      <td>6.8</td>\n",
       "      <td>2.35</td>\n",
       "      <td>85000</td>\n",
       "    </tr>\n",
       "    <tr>\n",
       "      <th>3</th>\n",
       "      <td>Color</td>\n",
       "      <td>Christopher Nolan</td>\n",
       "      <td>813.0</td>\n",
       "      <td>164.0</td>\n",
       "      <td>22000.0</td>\n",
       "      <td>23000.0</td>\n",
       "      <td>Christian Bale</td>\n",
       "      <td>27000.0</td>\n",
       "      <td>Action|Thriller</td>\n",
       "      <td>Tom Hardy</td>\n",
       "      <td>...</td>\n",
       "      <td>2701.0</td>\n",
       "      <td>English</td>\n",
       "      <td>USA</td>\n",
       "      <td>PG-13</td>\n",
       "      <td>250000000.0</td>\n",
       "      <td>2012.0</td>\n",
       "      <td>23000.0</td>\n",
       "      <td>8.5</td>\n",
       "      <td>2.35</td>\n",
       "      <td>164000</td>\n",
       "    </tr>\n",
       "    <tr>\n",
       "      <th>4</th>\n",
       "      <td>Color</td>\n",
       "      <td>Doug Walker</td>\n",
       "      <td>140.194272</td>\n",
       "      <td>107.201074</td>\n",
       "      <td>131.0</td>\n",
       "      <td>1000.0</td>\n",
       "      <td>Rob Walker</td>\n",
       "      <td>131.0</td>\n",
       "      <td>Documentary</td>\n",
       "      <td>Doug Walker</td>\n",
       "      <td>...</td>\n",
       "      <td>1.0</td>\n",
       "      <td>English</td>\n",
       "      <td>USA</td>\n",
       "      <td>R</td>\n",
       "      <td>39752620.436388</td>\n",
       "      <td>2002.470517</td>\n",
       "      <td>12.0</td>\n",
       "      <td>7.1</td>\n",
       "      <td>2.220403</td>\n",
       "      <td>0</td>\n",
       "    </tr>\n",
       "    <tr>\n",
       "      <th>...</th>\n",
       "      <td>...</td>\n",
       "      <td>...</td>\n",
       "      <td>...</td>\n",
       "      <td>...</td>\n",
       "      <td>...</td>\n",
       "      <td>...</td>\n",
       "      <td>...</td>\n",
       "      <td>...</td>\n",
       "      <td>...</td>\n",
       "      <td>...</td>\n",
       "      <td>...</td>\n",
       "      <td>...</td>\n",
       "      <td>...</td>\n",
       "      <td>...</td>\n",
       "      <td>...</td>\n",
       "      <td>...</td>\n",
       "      <td>...</td>\n",
       "      <td>...</td>\n",
       "      <td>...</td>\n",
       "      <td>...</td>\n",
       "      <td>...</td>\n",
       "    </tr>\n",
       "    <tr>\n",
       "      <th>5038</th>\n",
       "      <td>Color</td>\n",
       "      <td>Scott Smith</td>\n",
       "      <td>1.0</td>\n",
       "      <td>87.0</td>\n",
       "      <td>2.0</td>\n",
       "      <td>318.0</td>\n",
       "      <td>Daphne Zuniga</td>\n",
       "      <td>637.0</td>\n",
       "      <td>Comedy|Drama</td>\n",
       "      <td>Eric Mabius</td>\n",
       "      <td>...</td>\n",
       "      <td>6.0</td>\n",
       "      <td>English</td>\n",
       "      <td>Canada</td>\n",
       "      <td>R</td>\n",
       "      <td>39752620.436388</td>\n",
       "      <td>2013.0</td>\n",
       "      <td>470.0</td>\n",
       "      <td>7.7</td>\n",
       "      <td>2.220403</td>\n",
       "      <td>84</td>\n",
       "    </tr>\n",
       "    <tr>\n",
       "      <th>5039</th>\n",
       "      <td>Color</td>\n",
       "      <td>Steven Spielberg</td>\n",
       "      <td>43.0</td>\n",
       "      <td>43.0</td>\n",
       "      <td>686.509212</td>\n",
       "      <td>319.0</td>\n",
       "      <td>Valorie Curry</td>\n",
       "      <td>841.0</td>\n",
       "      <td>Crime|Drama|Mystery|Thriller</td>\n",
       "      <td>Natalie Zea</td>\n",
       "      <td>...</td>\n",
       "      <td>359.0</td>\n",
       "      <td>English</td>\n",
       "      <td>USA</td>\n",
       "      <td>TV-14</td>\n",
       "      <td>39752620.436388</td>\n",
       "      <td>2002.470517</td>\n",
       "      <td>593.0</td>\n",
       "      <td>7.5</td>\n",
       "      <td>16.0</td>\n",
       "      <td>32000</td>\n",
       "    </tr>\n",
       "    <tr>\n",
       "      <th>5040</th>\n",
       "      <td>Color</td>\n",
       "      <td>Benjamin Roberds</td>\n",
       "      <td>13.0</td>\n",
       "      <td>76.0</td>\n",
       "      <td>0.0</td>\n",
       "      <td>0.0</td>\n",
       "      <td>Maxwell Moody</td>\n",
       "      <td>0.0</td>\n",
       "      <td>Drama|Horror|Thriller</td>\n",
       "      <td>Eva Boehnke</td>\n",
       "      <td>...</td>\n",
       "      <td>3.0</td>\n",
       "      <td>English</td>\n",
       "      <td>USA</td>\n",
       "      <td>R</td>\n",
       "      <td>1400.0</td>\n",
       "      <td>2013.0</td>\n",
       "      <td>0.0</td>\n",
       "      <td>6.3</td>\n",
       "      <td>2.220403</td>\n",
       "      <td>16</td>\n",
       "    </tr>\n",
       "    <tr>\n",
       "      <th>5041</th>\n",
       "      <td>Color</td>\n",
       "      <td>Daniel Hsia</td>\n",
       "      <td>14.0</td>\n",
       "      <td>100.0</td>\n",
       "      <td>0.0</td>\n",
       "      <td>489.0</td>\n",
       "      <td>Daniel Henney</td>\n",
       "      <td>946.0</td>\n",
       "      <td>Comedy|Drama|Romance</td>\n",
       "      <td>Alan Ruck</td>\n",
       "      <td>...</td>\n",
       "      <td>9.0</td>\n",
       "      <td>English</td>\n",
       "      <td>USA</td>\n",
       "      <td>PG-13</td>\n",
       "      <td>39752620.436388</td>\n",
       "      <td>2012.0</td>\n",
       "      <td>719.0</td>\n",
       "      <td>6.3</td>\n",
       "      <td>2.35</td>\n",
       "      <td>660</td>\n",
       "    </tr>\n",
       "    <tr>\n",
       "      <th>5042</th>\n",
       "      <td>Color</td>\n",
       "      <td>Jon Gunn</td>\n",
       "      <td>43.0</td>\n",
       "      <td>90.0</td>\n",
       "      <td>16.0</td>\n",
       "      <td>16.0</td>\n",
       "      <td>Brian Herzlinger</td>\n",
       "      <td>86.0</td>\n",
       "      <td>Documentary</td>\n",
       "      <td>John August</td>\n",
       "      <td>...</td>\n",
       "      <td>84.0</td>\n",
       "      <td>English</td>\n",
       "      <td>USA</td>\n",
       "      <td>PG</td>\n",
       "      <td>1100.0</td>\n",
       "      <td>2004.0</td>\n",
       "      <td>23.0</td>\n",
       "      <td>6.6</td>\n",
       "      <td>1.85</td>\n",
       "      <td>456</td>\n",
       "    </tr>\n",
       "  </tbody>\n",
       "</table>\n",
       "<p>5043 rows × 27 columns</p>\n",
       "</div>"
      ],
      "text/plain": [
       "      color      director_name num_critic_for_reviews    duration  \\\n",
       "0     Color      James Cameron                  723.0       178.0   \n",
       "1     Color     Gore Verbinski                  302.0       169.0   \n",
       "2     Color         Sam Mendes                  602.0       148.0   \n",
       "3     Color  Christopher Nolan                  813.0       164.0   \n",
       "4     Color        Doug Walker             140.194272  107.201074   \n",
       "...     ...                ...                    ...         ...   \n",
       "5038  Color        Scott Smith                    1.0        87.0   \n",
       "5039  Color   Steven Spielberg                   43.0        43.0   \n",
       "5040  Color   Benjamin Roberds                   13.0        76.0   \n",
       "5041  Color        Daniel Hsia                   14.0       100.0   \n",
       "5042  Color           Jon Gunn                   43.0        90.0   \n",
       "\n",
       "     director_facebook_likes actor_3_facebook_likes      actor_2_name  \\\n",
       "0                        0.0                  855.0  Joel David Moore   \n",
       "1                      563.0                 1000.0     Orlando Bloom   \n",
       "2                        0.0                  161.0      Rory Kinnear   \n",
       "3                    22000.0                23000.0    Christian Bale   \n",
       "4                      131.0                 1000.0        Rob Walker   \n",
       "...                      ...                    ...               ...   \n",
       "5038                     2.0                  318.0     Daphne Zuniga   \n",
       "5039              686.509212                  319.0     Valorie Curry   \n",
       "5040                     0.0                    0.0     Maxwell Moody   \n",
       "5041                     0.0                  489.0     Daniel Henney   \n",
       "5042                    16.0                   16.0  Brian Herzlinger   \n",
       "\n",
       "     actor_1_facebook_likes                           genres     actor_1_name  \\\n",
       "0                    1000.0  Action|Adventure|Fantasy|Sci-Fi      CCH Pounder   \n",
       "1                   40000.0         Action|Adventure|Fantasy      Johnny Depp   \n",
       "2                   11000.0        Action|Adventure|Thriller  Christoph Waltz   \n",
       "3                   27000.0                  Action|Thriller        Tom Hardy   \n",
       "4                     131.0                      Documentary      Doug Walker   \n",
       "...                     ...                              ...              ...   \n",
       "5038                  637.0                     Comedy|Drama      Eric Mabius   \n",
       "5039                  841.0     Crime|Drama|Mystery|Thriller      Natalie Zea   \n",
       "5040                    0.0            Drama|Horror|Thriller      Eva Boehnke   \n",
       "5041                  946.0             Comedy|Drama|Romance        Alan Ruck   \n",
       "5042                   86.0                      Documentary      John August   \n",
       "\n",
       "      ... num_user_for_reviews language country content_rating  \\\n",
       "0     ...               3054.0  English     USA          PG-13   \n",
       "1     ...               1238.0  English     USA          PG-13   \n",
       "2     ...                994.0  English      UK          PG-13   \n",
       "3     ...               2701.0  English     USA          PG-13   \n",
       "4     ...                  1.0  English     USA              R   \n",
       "...   ...                  ...      ...     ...            ...   \n",
       "5038  ...                  6.0  English  Canada              R   \n",
       "5039  ...                359.0  English     USA          TV-14   \n",
       "5040  ...                  3.0  English     USA              R   \n",
       "5041  ...                  9.0  English     USA          PG-13   \n",
       "5042  ...                 84.0  English     USA             PG   \n",
       "\n",
       "               budget   title_year actor_2_facebook_likes imdb_score  \\\n",
       "0         237000000.0       2009.0                  936.0        7.9   \n",
       "1         300000000.0       2007.0                 5000.0        7.1   \n",
       "2         245000000.0       2015.0                  393.0        6.8   \n",
       "3         250000000.0       2012.0                23000.0        8.5   \n",
       "4     39752620.436388  2002.470517                   12.0        7.1   \n",
       "...               ...          ...                    ...        ...   \n",
       "5038  39752620.436388       2013.0                  470.0        7.7   \n",
       "5039  39752620.436388  2002.470517                  593.0        7.5   \n",
       "5040           1400.0       2013.0                    0.0        6.3   \n",
       "5041  39752620.436388       2012.0                  719.0        6.3   \n",
       "5042           1100.0       2004.0                   23.0        6.6   \n",
       "\n",
       "     aspect_ratio movie_facebook_likes  \n",
       "0            1.78                33000  \n",
       "1            2.35                    0  \n",
       "2            2.35                85000  \n",
       "3            2.35               164000  \n",
       "4        2.220403                    0  \n",
       "...           ...                  ...  \n",
       "5038     2.220403                   84  \n",
       "5039         16.0                32000  \n",
       "5040     2.220403                   16  \n",
       "5041         2.35                  660  \n",
       "5042         1.85                  456  \n",
       "\n",
       "[5043 rows x 27 columns]"
      ]
     },
     "execution_count": 12,
     "metadata": {},
     "output_type": "execute_result"
    }
   ],
   "source": [
    "data1 = data1.set_axis([ 'color', 'director_name','num_critic_for_reviews','duration','director_facebook_likes','actor_3_facebook_likes','actor_2_name','actor_1_facebook_likes','genres','actor_1_name','movie_title','num_voted_users','cast_total_facebook_likes','actor_3_name','facenumber_in_poster','plot_keywords','movie_imdb_link','num_user_for_reviews','language','country','content_rating','budget','title_year','actor_2_facebook_likes','imdb_score','aspect_ratio','movie_facebook_likes'], axis=1, inplace=False)\n",
    "data1"
   ]
  },
  {
   "cell_type": "markdown",
   "id": "d75437e3",
   "metadata": {
    "id": "ZCkKTWNMoDxC",
    "papermill": {
     "duration": 0.024898,
     "end_time": "2022-01-19T12:17:44.143909",
     "exception": false,
     "start_time": "2022-01-19T12:17:44.119011",
     "status": "completed"
    },
    "tags": []
   },
   "source": [
    "renaming column as column name has change\n"
   ]
  },
  {
   "cell_type": "code",
   "execution_count": 13,
   "id": "eac2b4d2",
   "metadata": {
    "execution": {
     "iopub.execute_input": "2022-01-19T12:17:44.201388Z",
     "iopub.status.busy": "2022-01-19T12:17:44.200458Z",
     "iopub.status.idle": "2022-01-19T12:17:44.205857Z",
     "shell.execute_reply": "2022-01-19T12:17:44.206466Z"
    },
    "id": "HWpXzkLX6Tuk",
    "papermill": {
     "duration": 0.036845,
     "end_time": "2022-01-19T12:17:44.206638",
     "exception": false,
     "start_time": "2022-01-19T12:17:44.169793",
     "status": "completed"
    },
    "tags": []
   },
   "outputs": [
    {
     "data": {
      "text/plain": [
       "Index(['color', 'director_name', 'num_critic_for_reviews', 'duration',\n",
       "       'director_facebook_likes', 'actor_3_facebook_likes', 'actor_2_name',\n",
       "       'actor_1_facebook_likes', 'genres', 'actor_1_name', 'movie_title',\n",
       "       'num_voted_users', 'cast_total_facebook_likes', 'actor_3_name',\n",
       "       'facenumber_in_poster', 'plot_keywords', 'movie_imdb_link',\n",
       "       'num_user_for_reviews', 'language', 'country', 'content_rating',\n",
       "       'budget', 'title_year', 'actor_2_facebook_likes', 'imdb_score',\n",
       "       'aspect_ratio', 'movie_facebook_likes'],\n",
       "      dtype='object')"
      ]
     },
     "execution_count": 13,
     "metadata": {},
     "output_type": "execute_result"
    }
   ],
   "source": [
    "data1.columns"
   ]
  },
  {
   "cell_type": "code",
   "execution_count": 14,
   "id": "6cc22bc0",
   "metadata": {
    "execution": {
     "iopub.execute_input": "2022-01-19T12:17:44.265397Z",
     "iopub.status.busy": "2022-01-19T12:17:44.264603Z",
     "iopub.status.idle": "2022-01-19T12:17:45.350704Z",
     "shell.execute_reply": "2022-01-19T12:17:45.350171Z"
    },
    "id": "mkCrXDM9UMgT",
    "outputId": "e1c6a19b-cc05-40ff-d80c-b6b3286d6091",
    "papermill": {
     "duration": 1.117856,
     "end_time": "2022-01-19T12:17:45.350898",
     "exception": false,
     "start_time": "2022-01-19T12:17:44.233042",
     "status": "completed"
    },
    "tags": []
   },
   "outputs": [
    {
     "data": {
      "text/plain": [
       "Text(0, 0.5, 'imdb rating')"
      ]
     },
     "execution_count": 14,
     "metadata": {},
     "output_type": "execute_result"
    },
    {
     "data": {
      "image/png": "[encoded data removed]",
      "text/plain": [
       "<Figure size 432x288 with 1 Axes>"
      ]
     },
     "metadata": {
      "needs_background": "light"
     },
     "output_type": "display_data"
    }
   ],
   "source": [
    "plt = data1.imdb_score.value_counts().plot(kind='bar',color=['r','b'])\n",
    "plt.set_xlabel('imdb_score')\n",
    "plt.set_ylabel('imdb rating')"
   ]
  },
  {
   "cell_type": "markdown",
   "id": "97651dc9",
   "metadata": {
    "id": "fRQuEbMloSNW",
    "papermill": {
     "duration": 0.02527,
     "end_time": "2022-01-19T12:17:45.401986",
     "exception": false,
     "start_time": "2022-01-19T12:17:45.376716",
     "status": "completed"
    },
    "tags": []
   },
   "source": [
    "plotting a bar of imdb score\n"
   ]
  },
  {
   "cell_type": "code",
   "execution_count": 15,
   "id": "c00c6fef",
   "metadata": {
    "execution": {
     "iopub.execute_input": "2022-01-19T12:17:45.469305Z",
     "iopub.status.busy": "2022-01-19T12:17:45.468723Z",
     "iopub.status.idle": "2022-01-19T12:17:46.614662Z",
     "shell.execute_reply": "2022-01-19T12:17:46.613994Z"
    },
    "id": "h5nZQVwKUrTu",
    "outputId": "506b7c5d-17e7-440d-dd7c-2046e27c6b17",
    "papermill": {
     "duration": 1.185249,
     "end_time": "2022-01-19T12:17:46.614834",
     "exception": false,
     "start_time": "2022-01-19T12:17:45.429585",
     "status": "completed"
    },
    "tags": []
   },
   "outputs": [
    {
     "data": {
      "text/plain": [
       "Text(0, 0.5, 'movie_facebook_likes')"
      ]
     },
     "execution_count": 15,
     "metadata": {},
     "output_type": "execute_result"
    },
    {
     "data": {
      "image/png": "[encoded data removed]",
      "text/plain": [
       "<Figure size 432x288 with 1 Axes>"
      ]
     },
     "metadata": {
      "needs_background": "light"
     },
     "output_type": "display_data"
    }
   ],
   "source": [
    "plt = data1.imdb_score.value_counts().plot(kind='bar',color=['r','b'])\n",
    "plt.set_xlabel('movie_facebook_likes')\n",
    "plt.set_ylabel('movie_facebook_likes')"
   ]
  },
  {
   "cell_type": "code",
   "execution_count": 16,
   "id": "25363e94",
   "metadata": {
    "execution": {
     "iopub.execute_input": "2022-01-19T12:17:46.707950Z",
     "iopub.status.busy": "2022-01-19T12:17:46.705168Z",
     "iopub.status.idle": "2022-01-19T12:17:47.717961Z",
     "shell.execute_reply": "2022-01-19T12:17:47.717368Z"
    },
    "id": "T1WkCptkVXav",
    "papermill": {
     "duration": 1.073084,
     "end_time": "2022-01-19T12:17:47.718103",
     "exception": false,
     "start_time": "2022-01-19T12:17:46.645019",
     "status": "completed"
    },
    "tags": []
   },
   "outputs": [
    {
     "data": {
      "text/plain": [
       "Text(0, 0.5, 'budget')"
      ]
     },
     "execution_count": 16,
     "metadata": {},
     "output_type": "execute_result"
    },
    {
     "data": {
      "image/png": "[encoded data removed]",
      "text/plain": [
       "<Figure size 432x288 with 1 Axes>"
      ]
     },
     "metadata": {
      "needs_background": "light"
     },
     "output_type": "display_data"
    }
   ],
   "source": [
    "plt = data1.imdb_score.value_counts().plot(kind='bar',color=['r','b'])\n",
    "plt.set_xlabel('budget')\n",
    "plt.set_ylabel('budget')"
   ]
  },
  {
   "cell_type": "code",
   "execution_count": 17,
   "id": "cf17d291",
   "metadata": {
    "execution": {
     "iopub.execute_input": "2022-01-19T12:17:47.785823Z",
     "iopub.status.busy": "2022-01-19T12:17:47.785105Z",
     "iopub.status.idle": "2022-01-19T12:17:47.791448Z",
     "shell.execute_reply": "2022-01-19T12:17:47.791937Z"
    },
    "id": "WWa_Pg0BhwNq",
    "papermill": {
     "duration": 0.043829,
     "end_time": "2022-01-19T12:17:47.792110",
     "exception": false,
     "start_time": "2022-01-19T12:17:47.748281",
     "status": "completed"
    },
    "tags": []
   },
   "outputs": [],
   "source": [
    "data1['country'] = data1['country'].map({'USA':0, 'NewZealand':1})\n",
    "data1['language'] = data1['language'].map({'English':0})"
   ]
  },
  {
   "cell_type": "code",
   "execution_count": 18,
   "id": "cd73a85c",
   "metadata": {
    "execution": {
     "iopub.execute_input": "2022-01-19T12:17:47.858291Z",
     "iopub.status.busy": "2022-01-19T12:17:47.857665Z",
     "iopub.status.idle": "2022-01-19T12:17:47.861645Z",
     "shell.execute_reply": "2022-01-19T12:17:47.861094Z"
    },
    "id": "bRSYloQ5o7lU",
    "papermill": {
     "duration": 0.039009,
     "end_time": "2022-01-19T12:17:47.861772",
     "exception": false,
     "start_time": "2022-01-19T12:17:47.822763",
     "status": "completed"
    },
    "tags": []
   },
   "outputs": [],
   "source": [
    "#split dataset in features and target variable\n",
    "feature_cols = ['director_name','title_year']\n",
    "X = data1[feature_cols] # Features\n",
    "y = data1.imdb_score # Target variable"
   ]
  },
  {
   "cell_type": "code",
   "execution_count": 19,
   "id": "1b434e9d",
   "metadata": {
    "execution": {
     "iopub.execute_input": "2022-01-19T12:17:47.924259Z",
     "iopub.status.busy": "2022-01-19T12:17:47.923341Z",
     "iopub.status.idle": "2022-01-19T12:17:47.930759Z",
     "shell.execute_reply": "2022-01-19T12:17:47.931177Z"
    },
    "id": "lDQmXHHRpfHP",
    "papermill": {
     "duration": 0.040027,
     "end_time": "2022-01-19T12:17:47.931327",
     "exception": false,
     "start_time": "2022-01-19T12:17:47.891300",
     "status": "completed"
    },
    "tags": []
   },
   "outputs": [],
   "source": [
    "# Split dataset into training set and test set\n",
    "X_train, X_test, y_train, y_test = train_test_split(X, y, test_size=0.3, random_state=None)"
   ]
  },
  {
   "cell_type": "code",
   "execution_count": 20,
   "id": "db15cfa7",
   "metadata": {
    "execution": {
     "iopub.execute_input": "2022-01-19T12:17:47.995575Z",
     "iopub.status.busy": "2022-01-19T12:17:47.994321Z",
     "iopub.status.idle": "2022-01-19T12:17:47.998512Z",
     "shell.execute_reply": "2022-01-19T12:17:47.997899Z"
    },
    "id": "LON_CvmZNtWl",
    "papermill": {
     "duration": 0.038883,
     "end_time": "2022-01-19T12:17:47.998636",
     "exception": false,
     "start_time": "2022-01-19T12:17:47.959753",
     "status": "completed"
    },
    "tags": []
   },
   "outputs": [],
   "source": [
    "data1 = data1.drop(['color','director_name','actor_2_name','genres','actor_1_name','movie_title','actor_3_name','plot_keywords','movie_imdb_link','language','country','content_rating',], axis=1)"
   ]
  },
  {
   "cell_type": "markdown",
   "id": "20dd9c53",
   "metadata": {
    "id": "3_Ktcaglol0b",
    "papermill": {
     "duration": 0.029918,
     "end_time": "2022-01-19T12:17:48.058844",
     "exception": false,
     "start_time": "2022-01-19T12:17:48.028926",
     "status": "completed"
    },
    "tags": []
   },
   "source": [
    "droping categorical data so to find min max"
   ]
  },
  {
   "cell_type": "code",
   "execution_count": 21,
   "id": "8b15af8e",
   "metadata": {
    "execution": {
     "iopub.execute_input": "2022-01-19T12:17:48.124558Z",
     "iopub.status.busy": "2022-01-19T12:17:48.123937Z",
     "iopub.status.idle": "2022-01-19T12:17:48.156639Z",
     "shell.execute_reply": "2022-01-19T12:17:48.157106Z"
    },
    "id": "iv6AHB6WNPvq",
    "outputId": "2b8bbe6f-fc0b-4a31-8471-878000901c2e",
    "papermill": {
     "duration": 0.068232,
     "end_time": "2022-01-19T12:17:48.157289",
     "exception": false,
     "start_time": "2022-01-19T12:17:48.089057",
     "status": "completed"
    },
    "tags": []
   },
   "outputs": [
    {
     "name": "stdout",
     "output_type": "stream",
     "text": [
      "\n",
      "After min max Scaling : \n",
      " [[8.89162562e-01 3.39285714e-01 0.00000000e+00 ... 7.97468354e-01\n",
      "  4.04858300e-02 9.45558739e-02]\n",
      " [3.70689655e-01 3.21428571e-01 2.44782609e-02 ... 6.96202532e-01\n",
      "  7.89473684e-02 0.00000000e+00]\n",
      " [7.40147783e-01 2.79761905e-01 0.00000000e+00 ... 6.58227848e-01\n",
      "  7.89473684e-02 2.43553009e-01]\n",
      " ...\n",
      " [1.47783251e-02 1.36904762e-01 0.00000000e+00 ... 5.94936709e-01\n",
      "  7.02026353e-02 4.58452722e-05]\n",
      " [1.60098522e-02 1.84523810e-01 0.00000000e+00 ... 5.94936709e-01\n",
      "  7.89473684e-02 1.89111748e-03]\n",
      " [5.17241379e-02 1.64682540e-01 6.95652174e-04 ... 6.32911392e-01\n",
      "  4.52091768e-02 1.30659026e-03]]\n",
      "\n",
      "After Standardisation : \n",
      " [[ 4.81716418e+00  2.81423447e+00 -2.46601009e-01 ...  1.29587271e+00\n",
      "  -3.28897844e-01  1.31863223e+00]\n",
      " [ 1.33740065e+00  2.45648737e+00 -4.43657504e-02 ...  5.84764324e-01\n",
      "   9.67844239e-02 -3.89572329e-01]\n",
      " [ 3.81704212e+00  1.62174415e+00 -2.46601009e-01 ...  3.18098678e-01\n",
      "   9.67844239e-02  4.01034850e+00]\n",
      " ...\n",
      " [-1.05132064e+00 -1.24023262e+00 -2.46601009e-01 ... -1.26344064e-01\n",
      "   1.32991933e-13 -3.88744108e-01]\n",
      " [-1.04305517e+00 -2.86240367e-01 -2.46601009e-01 ... -1.26344064e-01\n",
      "   9.67844239e-02 -3.55408238e-01]\n",
      " [-8.03356493e-01 -6.83737141e-01 -2.40853648e-01 ...  1.40321581e-01\n",
      "  -2.76621075e-01 -3.65968048e-01]]\n"
     ]
    }
   ],
   "source": [
    "from sklearn import preprocessing\n",
    "  \n",
    "min_max_scaler = preprocessing.MinMaxScaler(feature_range =(0, 1))\n",
    "  \n",
    "data1_after_min_max_scaler = min_max_scaler.fit_transform(data1)\n",
    "  \n",
    "print (\"\\nAfter min max Scaling : \\n\", data1_after_min_max_scaler)\n",
    "  \n",
    "Standardisation = preprocessing.StandardScaler()\n",
    "  \n",
    "data1_after_Standardisation = Standardisation.fit_transform(data1)\n",
    "  \n",
    "print (\"\\nAfter Standardisation : \\n\", data1_after_Standardisation)"
   ]
  },
  {
   "cell_type": "code",
   "execution_count": 22,
   "id": "244f4ed6",
   "metadata": {
    "execution": {
     "iopub.execute_input": "2022-01-19T12:17:48.221035Z",
     "iopub.status.busy": "2022-01-19T12:17:48.220087Z",
     "iopub.status.idle": "2022-01-19T12:17:48.231792Z",
     "shell.execute_reply": "2022-01-19T12:17:48.232219Z"
    },
    "papermill": {
     "duration": 0.045267,
     "end_time": "2022-01-19T12:17:48.232363",
     "exception": false,
     "start_time": "2022-01-19T12:17:48.187096",
     "status": "completed"
    },
    "tags": []
   },
   "outputs": [
    {
     "data": {
      "text/plain": [
       "num_critic_for_reviews       0\n",
       "duration                     0\n",
       "director_facebook_likes      0\n",
       "actor_3_facebook_likes       0\n",
       "actor_1_facebook_likes       0\n",
       "num_voted_users              0\n",
       "cast_total_facebook_likes    0\n",
       "facenumber_in_poster         0\n",
       "num_user_for_reviews         0\n",
       "budget                       0\n",
       "title_year                   0\n",
       "actor_2_facebook_likes       0\n",
       "imdb_score                   0\n",
       "aspect_ratio                 0\n",
       "movie_facebook_likes         0\n",
       "dtype: int64"
      ]
     },
     "execution_count": 22,
     "metadata": {},
     "output_type": "execute_result"
    }
   ],
   "source": [
    "data1.isnull().sum()"
   ]
  },
  {
   "cell_type": "code",
   "execution_count": 23,
   "id": "c601ef1b",
   "metadata": {
    "execution": {
     "iopub.execute_input": "2022-01-19T12:17:48.295095Z",
     "iopub.status.busy": "2022-01-19T12:17:48.294173Z",
     "iopub.status.idle": "2022-01-19T12:17:49.369867Z",
     "shell.execute_reply": "2022-01-19T12:17:49.370357Z"
    },
    "papermill": {
     "duration": 1.108706,
     "end_time": "2022-01-19T12:17:49.370531",
     "exception": false,
     "start_time": "2022-01-19T12:17:48.261825",
     "status": "completed"
    },
    "tags": []
   },
   "outputs": [
    {
     "data": {
      "text/plain": [
       "Text(0, 0.5, 'imdb_score')"
      ]
     },
     "execution_count": 23,
     "metadata": {},
     "output_type": "execute_result"
    },
    {
     "data": {
      "image/png": "[encoded data removed]",
      "text/plain": [
       "<Figure size 432x288 with 1 Axes>"
      ]
     },
     "metadata": {
      "needs_background": "light"
     },
     "output_type": "display_data"
    }
   ],
   "source": [
    "plt = data1[['aspect_ratio', 'imdb_score']].groupby('imdb_score').mean().aspect_ratio.plot(kind='bar',color=['r','b','g','y','c','m'])\n",
    "plt.set_xlabel('aspect_ratio')\n",
    "plt.set_ylabel('imdb_score')"
   ]
  }
 ],
 "metadata": {
  "kernelspec": {
   "display_name": "Python 3",
   "language": "python",
   "name": "python3"
  },
  "language_info": {
   "codemirror_mode": {
    "name": "ipython",
    "version": 3
   },
   "file_extension": ".py",
   "mimetype": "text/x-python",
   "name": "python",
   "nbconvert_exporter": "python",
   "pygments_lexer": "ipython3",
   "version": "3.7.12"
  },
  "papermill": {
   "default_parameters": {},
   "duration": 17.715249,
   "end_time": "2022-01-19T12:17:50.111776",
   "environment_variables": {},
   "exception": null,
   "input_path": "__notebook__.ipynb",
   "output_path": "__notebook__.ipynb",
   "parameters": {},
   "start_time": "2022-01-19T12:17:32.396527",
   "version": "2.3.3"
  }
 },
 "nbformat": 4,
 "nbformat_minor": 5
}
